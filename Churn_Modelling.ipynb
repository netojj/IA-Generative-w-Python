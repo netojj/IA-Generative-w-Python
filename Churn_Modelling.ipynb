{
  "nbformat": 4,
  "nbformat_minor": 0,
  "metadata": {
    "colab": {
      "provenance": [],
      "gpuType": "T4",
      "authorship_tag": "ABX9TyND5hPe4m9LVP3VwCDcsWLy",
      "include_colab_link": true
    },
    "kernelspec": {
      "name": "python3",
      "display_name": "Python 3"
    },
    "language_info": {
      "name": "python"
    },
    "accelerator": "GPU"
  },
  "cells": [
    {
      "cell_type": "markdown",
      "metadata": {
        "id": "view-in-github",
        "colab_type": "text"
      },
      "source": [
        "<a href=\"https://colab.research.google.com/github/netojj/IA-Generative-w-Python/blob/main/Churn_Modelling.ipynb\" target=\"_parent\"><img src=\"https://colab.research.google.com/assets/colab-badge.svg\" alt=\"Open In Colab\"/></a>"
      ]
    },
    {
      "cell_type": "markdown",
      "source": [
        "## Importando Bibliotecas"
      ],
      "metadata": {
        "id": "GTrPAF45ttwa"
      }
    },
    {
      "cell_type": "code",
      "execution_count": null,
      "metadata": {
        "id": "_LqpwCwbtgtr"
      },
      "outputs": [],
      "source": [
        "import numpy as np\n",
        "import matplotlib.pyplot as plt\n",
        "import pandas as pd\n",
        "from sklearn.model_selection import train_test_split\n",
        "from sklearn.preprocessing import LabelEncoder, StandardScaler\n",
        "import keras\n",
        "from keras.models import Sequential\n",
        "from keras.layers import Dense\n",
        "from keras.layers import Dropout\n",
        "from sklearn.metrics import accuracy_score, f1_score, recall_score, confusion_matrix, ConfusionMatrixDisplay"
      ]
    },
    {
      "cell_type": "markdown",
      "source": [
        "## Database"
      ],
      "metadata": {
        "id": "f8GTEUy7uKMi"
      }
    },
    {
      "cell_type": "code",
      "source": [
        "data = pd.read_csv('/content/Churn_Modelling.csv')\n",
        "data.sample(5)"
      ],
      "metadata": {
        "id": "n_hSmk1juMP1"
      },
      "execution_count": null,
      "outputs": []
    },
    {
      "cell_type": "code",
      "source": [
        "X = data.drop(\"Exited\", axis=1)\n",
        "y = data[\"Exited\"]"
      ],
      "metadata": {
        "id": "d9Kxj6DBuqrt"
      },
      "execution_count": null,
      "outputs": []
    },
    {
      "cell_type": "code",
      "source": [
        "X"
      ],
      "metadata": {
        "id": "kHeHA7KTu5iY"
      },
      "execution_count": null,
      "outputs": []
    },
    {
      "cell_type": "code",
      "source": [
        "standardscaler = StandardScaler()\n",
        "numerical = X.select_dtypes(include=['int64','float64']).columns\n",
        "X[numerical] = standardscaler.fit_transform(X[numerical])"
      ],
      "metadata": {
        "id": "USOwxuhdvNWT"
      },
      "execution_count": null,
      "outputs": []
    },
    {
      "cell_type": "code",
      "source": [
        "X"
      ],
      "metadata": {
        "id": "BoDvpLP5vgyn"
      },
      "execution_count": null,
      "outputs": []
    },
    {
      "cell_type": "code",
      "source": [
        "labelencoder = LabelEncoder()\n",
        "categorical = X.select_dtypes(include='object').columns\n",
        "for col in categorical:\n",
        "    X[col] = labelencoder.fit_transform(X[col])"
      ],
      "metadata": {
        "id": "KCt9XodBvi4E"
      },
      "execution_count": null,
      "outputs": []
    },
    {
      "cell_type": "code",
      "source": [
        "X"
      ],
      "metadata": {
        "id": "3nFzJI_7v3e5"
      },
      "execution_count": null,
      "outputs": []
    },
    {
      "cell_type": "code",
      "source": [
        "X_treino, X_teste, y_treino, y_teste = train_test_split(X,y, test_size = 0.4, random_state=0)"
      ],
      "metadata": {
        "id": "w1wcKPRFv-om"
      },
      "execution_count": null,
      "outputs": []
    },
    {
      "cell_type": "code",
      "source": [
        "modelo = Sequential()\n",
        "modelo.add(Dense(units=64, activation='relu', input_dim=X_treino.shape[1]))\n",
        "modelo.add(Dropout(0.4))\n",
        "modelo.add(Dense(units=32, activation='relu'))\n",
        "modelo.add(Dropout(0.4))\n",
        "modelo.add(Dense(units=64, activation='relu'))\n",
        "modelo.add(Dropout(0.4))\n",
        "modelo.add(Dense(units=1, activation='sigmoid'))"
      ],
      "metadata": {
        "id": "rISgs-qKwMEg"
      },
      "execution_count": null,
      "outputs": []
    },
    {
      "cell_type": "code",
      "source": [
        "modelo.compile(optimizer='adam', loss='binary_crossentropy', metrics=['accuracy'])\n",
        "modelo.fit(X_treino, y_treino, epochs=200, batch_size=25)"
      ],
      "metadata": {
        "id": "vCCy3xSdwQ14"
      },
      "execution_count": null,
      "outputs": []
    },
    {
      "cell_type": "code",
      "source": [
        "previsao = modelo.predict(X_teste)\n",
        "previsao"
      ],
      "metadata": {
        "id": "b3qNtsw_w9pb"
      },
      "execution_count": null,
      "outputs": []
    },
    {
      "cell_type": "code",
      "source": [
        "y_pred = (previsao > 0.5).astype('int32')\n",
        "y_pred"
      ],
      "metadata": {
        "id": "vj9lM8cZxA0r"
      },
      "execution_count": null,
      "outputs": []
    },
    {
      "cell_type": "code",
      "source": [
        "print('Acurácia: ', accuracy_score(y_teste, y_pred))\n",
        "print('F1: ', f1_score(y_teste, y_pred))\n",
        "print('Recall: ', recall_score(y_teste, y_pred))\n",
        "print('Matriz de Confusão: ', confusion_matrix(y_teste, y_pred))"
      ],
      "metadata": {
        "id": "z-NcORv4xK-r"
      },
      "execution_count": null,
      "outputs": []
    }
  ]
}